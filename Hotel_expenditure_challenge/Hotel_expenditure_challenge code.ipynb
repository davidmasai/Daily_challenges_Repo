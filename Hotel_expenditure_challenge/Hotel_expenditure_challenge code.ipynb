{
 "cells": [
  {
   "cell_type": "code",
   "execution_count": null,
   "metadata": {},
   "outputs": [
    {
     "name": "stdout",
     "output_type": "stream",
     "text": [
      "---------------\n",
      "| item  --  Price\n",
      "| wine -- Ksh 500\n",
      "| soap -- Ksh 200\n",
      "| breakfast -- Ksh 1000\n",
      "| lunch -- Ksh 2000\n",
      "| supper -- Ksh 2500\n",
      "---------------\n",
      "What items were purchased by our guest david masai :  (type 'done' to stop): \n",
      "\n",
      "Guest DataFrame:\n",
      "  arrival_date         name            inventory  total_cost\n",
      "0   2024-11-20  david masai  lunch, wine, supper        5000\n",
      "Guest: david masai\n",
      "Arrival Date: 2024-11-20\n",
      "Inventory: lunch, wine, supper\n",
      "Total Cost: Ksh 5000\n",
      "------------------------------\n"
     ]
    }
   ],
   "source": [
    "from datetime import datetime\n",
    "import pandas as pd\n",
    "\n",
    "# Guest details\n",
    "while True:\n",
    "    try:\n",
    "        guest_num = input('How many guests arrived: ')\n",
    "        if guest_num.isdigit():  # Check if the input is a valid positive integer\n",
    "            guest_num = int(guest_num)  # Convert the valid input to an integer\n",
    "            break\n",
    "        else:\n",
    "            print(\"Please enter a valid number.\")\n",
    "    except ValueError:\n",
    "        print(\"Invalid input. Try again.\")\n",
    "\n",
    "\n",
    "guest_records = []  # List to store all guest data\n",
    "catalogue = {'wine': 500, 'soap': 200, 'breakfast': 1000, 'lunch': 2000, 'supper': 2500}\n",
    "\n",
    "# Iterate over the number of guests\n",
    "for num in range(guest_num):\n",
    "    guest_name = input(\"Guest's name: \")\n",
    "    departure_time = datetime.now().strftime('%H:%M:%S')# 'HH:MM:SS' format\n",
    "    departure_date = datetime.now().strftime('%Y-%m-%d')  # 'YYYY-MM-DD' format\n",
    "\n",
    "    items_used = []\n",
    "\n",
    "    print('-' * 15)\n",
    "    space = '-' * 2\n",
    "    print(f'| item  {space}  Price' )\n",
    "    for item, price in catalogue.items():\n",
    "        print(f\"| {item} {space} Ksh {price}\")\n",
    "    print('-' * 15)\n",
    "    \n",
    "    print(f\"What items were purchased by our guest {guest_name} :  (type 'done' to stop): \")\n",
    "    while True:\n",
    "        item_purchased=input().strip().lower()\n",
    "        if item_purchased == 'done':\n",
    "            break\n",
    "        elif item_purchased in catalogue:\n",
    "            items_used.append(item_purchased)\n",
    "        else:\n",
    "            print(f\"Invalid item\")\n",
    "\n",
    "    total_cost = sum(catalogue[item] for item in items_used)\n",
    "\n",
    "    # Each iteration of your loop creates a new dictionary (representing a row values)\n",
    "    # Append the guest record to the list that will use to populate the DataFrame\n",
    "    guest_records.append({\n",
    "        'name': guest_name,\n",
    "        'arrival_date': departure_date,\n",
    "        'departure_time': departure_time,\n",
    "        'inventory': ', '.join(items_used),  # Convert the list to a string for storage\n",
    "        'total_cost': total_cost\n",
    "    })\n",
    "\n",
    "# Convert the list of guest records into a DataFrame\n",
    "guest_df = pd.DataFrame(guest_records,columns=['departure_date','departure_time','name','inventory','total_cost'])\n",
    "\n",
    "\n",
    "# Exporting the DataFrame to an Excel file\n",
    "# guest_df.to_excel('guest_records.xlsx', index=False)\n",
    "\n",
    "# guest_df.set_index(['arrival_date','name'], inplace=True)\n",
    "print(\"\\nGuest DataFrame:\")\n",
    "print(guest_df)\n",
    "\n",
    "# Displaying receipt-like summary for each guest\n",
    "for index, row in guest_df.iterrows():\n",
    "    # guest_name, arrival_date = index\n",
    "    print(f\"Guest: {guest_name}\")\n",
    "    print(f\"departure Date: {departure_date}\")\n",
    "    print(f\"Inventory: {row['inventory']}\")\n",
    "    print(f\"Total Cost: Ksh {row['total_cost']}\")\n",
    "    print(f\"Time of Exit: {row['departure_time']}\")\n",
    "    print('-' * 30)\n",
    "\n",
    "\n"
   ]
  },
  {
   "cell_type": "code",
   "execution_count": null,
   "metadata": {},
   "outputs": [],
   "source": [
    "import os\n",
    "os.chdir(\"c:\\\\Users\\\\User\\\\my_learning\\\\Hotel_expenditure_challenge\")"
   ]
  },
  {
   "cell_type": "code",
   "execution_count": null,
   "metadata": {},
   "outputs": [
    {
     "name": "stdout",
     "output_type": "stream",
     "text": [
      " the total spend was 2700\n"
     ]
    }
   ],
   "source": []
  },
  {
   "cell_type": "code",
   "execution_count": null,
   "metadata": {},
   "outputs": [],
   "source": [
    "print"
   ]
  }
 ],
 "metadata": {
  "kernelspec": {
   "display_name": "moringa",
   "language": "python",
   "name": "python3"
  },
  "language_info": {
   "codemirror_mode": {
    "name": "ipython",
    "version": 3
   },
   "file_extension": ".py",
   "mimetype": "text/x-python",
   "name": "python",
   "nbconvert_exporter": "python",
   "pygments_lexer": "ipython3",
   "version": "3.12.7"
  }
 },
 "nbformat": 4,
 "nbformat_minor": 2
}
